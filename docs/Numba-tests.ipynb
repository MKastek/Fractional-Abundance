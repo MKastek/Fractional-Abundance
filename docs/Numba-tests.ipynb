{
 "cells": [
  {
   "cell_type": "code",
   "execution_count": 1,
   "id": "553b0b14",
   "metadata": {},
   "outputs": [],
   "source": [
    "import sys\n",
    "sys.path.append(r\"C:\\Users\\marci\\Desktop\\Projekt NCN\\Zadania\\1.Styczeń\\Fractional_Abundance\")"
   ]
  },
  {
   "cell_type": "code",
   "execution_count": 14,
   "id": "fe371fd3",
   "metadata": {},
   "outputs": [],
   "source": [
    "from Fractional_Abundace.FractionalAbundance import FractionalAbundance\n",
    "import time\n",
    "import timeit\n",
    "import pandas as pd\n",
    "import inspect\n",
    "import pprint"
   ]
  },
  {
   "cell_type": "code",
   "execution_count": 3,
   "id": "96cafab0",
   "metadata": {},
   "outputs": [],
   "source": [
    "path_to_data = r\"C:\\Users\\marci\\Desktop\\Projekt NCN\\Zadania\\1.Styczeń\\Fractional_Abundance\\data\\unresolved\"\n",
    "number_of_loops = 10\n",
    "elements = ['He', 'Ne', 'Ar', 'Kr', 'Xe']"
   ]
  },
  {
   "cell_type": "markdown",
   "id": "f9203259",
   "metadata": {},
   "source": [
    "### Measure the performance of Numba\n",
    "First, recall that Numba has to compile your function for the argument types given before it executes the machine code version of your function. This takes time. However, once the compilation has taken place Numba caches the machine code version of your function for the particular types of arguments presented. If it is called again with the same types, it can reuse the cached version instead of having to compile again\n",
    "https://numba.readthedocs.io/en/stable/user/5minguide.html"
   ]
  },
  {
   "cell_type": "code",
   "execution_count": 4,
   "id": "d25779b8",
   "metadata": {},
   "outputs": [
    {
     "name": "stdout",
     "output_type": "stream",
     "text": [
      "Elapsed (with compilation) = 5.928304300000001s\n"
     ]
    }
   ],
   "source": [
    "#COMPILATION TIME IS INCLUDED IN THE EXECUTION TIME!\n",
    "start = time.perf_counter()\n",
    "FA = FractionalAbundance(atom='Xe', concurrent=True, path_to_data=path_to_data)\n",
    "end = time.perf_counter()\n",
    "print(\"Elapsed (with compilation) = {}s\".format((end - start)))"
   ]
  },
  {
   "cell_type": "code",
   "execution_count": 6,
   "id": "e12663d4",
   "metadata": {},
   "outputs": [
    {
     "name": "stdout",
     "output_type": "stream",
     "text": [
      "Elapsed (after compilation) = 0.9643780999999976s\n"
     ]
    }
   ],
   "source": [
    "# NOW THE FUNCTION IS COMPILED, RE-TIME IT EXECUTING FROM CACHE\n",
    "start =  time.perf_counter()\n",
    "FA = FractionalAbundance(atom='Xe', concurrent=True, path_to_data=path_to_data )\n",
    "end = time.perf_counter()\n",
    "print(\"Elapsed (after compilation) = {}s\".format((end - start)))"
   ]
  },
  {
   "cell_type": "markdown",
   "id": "bc9ab60f",
   "metadata": {},
   "source": [
    "### Numba function in Fractional Abundance\n",
    "- calculate_cum_sum_prod(SCD_matrix, ACD_matrix, Z)\n",
    "- get_Fractional_Abundance(ion, product_all, sum_all)\n",
    "\n",
    "calculate_cum_sum_prod is called once in __init__  \n",
    "get_Fractional_Abundance is called for every ionization stage for given element"
   ]
  },
  {
   "cell_type": "code",
   "execution_count": 22,
   "id": "d0d8e2c4",
   "metadata": {},
   "outputs": [
    {
     "name": "stdout",
     "output_type": "stream",
     "text": [
      "    @staticmethod\n",
      "    @numba.njit(parallel=True)\n",
      "    def calculate_cum_sum_prod(SCD_matrix, ACD_matrix, Z):\n",
      "        K = [np.divide(10 ** SCD_matrix[str(i) + str(i + 1)], 10 ** ACD_matrix[str(i + 1) + str(i)]) for i in range(Z)]\n",
      "\n",
      "        K.insert(0, np.ones_like(K[0]))\n",
      "\n",
      "        product_all = [K[0]]\n",
      "        cur = K[0]\n",
      "        sum_all = np.zeros_like(K[0])\n",
      "        for i in range(1, len(K)):\n",
      "            cur = np.multiply(K[i], cur)\n",
      "            sum_all += cur\n",
      "            product_all.append(cur)\n",
      "\n",
      "        return product_all, sum_all\n",
      "\n"
     ]
    }
   ],
   "source": [
    "print(inspect.getsource(FractionalAbundance.calculate_cum_sum_prod))"
   ]
  },
  {
   "cell_type": "code",
   "execution_count": 23,
   "id": "3cd56c28",
   "metadata": {},
   "outputs": [
    {
     "name": "stdout",
     "output_type": "stream",
     "text": [
      "    @staticmethod\n",
      "    @numba.njit(parallel=True)\n",
      "    def get_Fractional_Abundance(ion, product_all, sum_all):\n",
      "        FA = np.divide(product_all[ion], sum_all)\n",
      "        return FA\n",
      "\n"
     ]
    }
   ],
   "source": [
    "print(inspect.getsource(FractionalAbundance.get_Fractional_Abundance))"
   ]
  },
  {
   "cell_type": "markdown",
   "id": "7914b619",
   "metadata": {},
   "source": [
    "### Test for noble gases"
   ]
  },
  {
   "cell_type": "code",
   "execution_count": 24,
   "id": "39f174cf",
   "metadata": {},
   "outputs": [],
   "source": [
    "def test_time(elements, number_of_loops):\n",
    "    calc_time_numba = []\n",
    "    calc_time_numba_threading = []\n",
    "    for element in elements:\n",
    "        result_nb = timeit.timeit(lambda: FractionalAbundance(atom = element, concurrent = False, path_to_data = path_to_data), number = number_of_loops)\n",
    "        \n",
    "        result_nb_threading = timeit.timeit(lambda: FractionalAbundance(atom = element, concurrent = True, path_to_data = path_to_data), number = number_of_loops)\n",
    "        \n",
    "        calc_time_numba.append(result_nb/number_of_loops)\n",
    "        \n",
    "        calc_time_numba_threading.append(result_nb_threading/number_of_loops)\n",
    "    \n",
    "    return pd.DataFrame({'numba': calc_time_numba,'multi-threading-numba': calc_time_numba_threading,'elements': elements}).set_index('elements')\n",
    "        "
   ]
  },
  {
   "cell_type": "code",
   "execution_count": 25,
   "id": "3af96945",
   "metadata": {},
   "outputs": [],
   "source": [
    "time_df = test_time(elements, number_of_loops)"
   ]
  },
  {
   "cell_type": "code",
   "execution_count": 26,
   "id": "1d65f56b",
   "metadata": {},
   "outputs": [
    {
     "data": {
      "text/html": [
       "<div>\n",
       "<style scoped>\n",
       "    .dataframe tbody tr th:only-of-type {\n",
       "        vertical-align: middle;\n",
       "    }\n",
       "\n",
       "    .dataframe tbody tr th {\n",
       "        vertical-align: top;\n",
       "    }\n",
       "\n",
       "    .dataframe thead th {\n",
       "        text-align: right;\n",
       "    }\n",
       "</style>\n",
       "<table border=\"1\" class=\"dataframe\">\n",
       "  <thead>\n",
       "    <tr style=\"text-align: right;\">\n",
       "      <th></th>\n",
       "      <th>numba</th>\n",
       "      <th>multi-threading-numba</th>\n",
       "    </tr>\n",
       "    <tr>\n",
       "      <th>elements</th>\n",
       "      <th></th>\n",
       "      <th></th>\n",
       "    </tr>\n",
       "  </thead>\n",
       "  <tbody>\n",
       "    <tr>\n",
       "      <th>He</th>\n",
       "      <td>0.019711</td>\n",
       "      <td>0.021689</td>\n",
       "    </tr>\n",
       "    <tr>\n",
       "      <th>Ne</th>\n",
       "      <td>0.121070</td>\n",
       "      <td>0.122915</td>\n",
       "    </tr>\n",
       "    <tr>\n",
       "      <th>Ar</th>\n",
       "      <td>0.235760</td>\n",
       "      <td>0.224412</td>\n",
       "    </tr>\n",
       "    <tr>\n",
       "      <th>Kr</th>\n",
       "      <td>0.618146</td>\n",
       "      <td>0.544276</td>\n",
       "    </tr>\n",
       "    <tr>\n",
       "      <th>Xe</th>\n",
       "      <td>1.236774</td>\n",
       "      <td>1.118156</td>\n",
       "    </tr>\n",
       "  </tbody>\n",
       "</table>\n",
       "</div>"
      ],
      "text/plain": [
       "             numba  multi-threading-numba\n",
       "elements                                 \n",
       "He        0.019711               0.021689\n",
       "Ne        0.121070               0.122915\n",
       "Ar        0.235760               0.224412\n",
       "Kr        0.618146               0.544276\n",
       "Xe        1.236774               1.118156"
      ]
     },
     "execution_count": 26,
     "metadata": {},
     "output_type": "execute_result"
    }
   ],
   "source": [
    "time_df"
   ]
  },
  {
   "cell_type": "code",
   "execution_count": 27,
   "id": "7c1e0ca7",
   "metadata": {},
   "outputs": [
    {
     "data": {
      "image/png": "[encoded data removed]",
      "text/plain": [
       "<Figure size 1200x700 with 1 Axes>"
      ]
     },
     "metadata": {},
     "output_type": "display_data"
    }
   ],
   "source": [
    "time_df.plot.bar(rot=0, title='Computation time [s]').grid()"
   ]
  }
 ],
 "metadata": {
  "kernelspec": {
   "display_name": "Python 3 (ipykernel)",
   "language": "python",
   "name": "python3"
  },
  "language_info": {
   "codemirror_mode": {
    "name": "ipython",
    "version": 3
   },
   "file_extension": ".py",
   "mimetype": "text/x-python",
   "name": "python",
   "nbconvert_exporter": "python",
   "pygments_lexer": "ipython3",
   "version": "3.9.7"
  }
 },
 "nbformat": 4,
 "nbformat_minor": 5
}
